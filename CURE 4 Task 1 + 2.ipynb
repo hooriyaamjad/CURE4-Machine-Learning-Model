{
 "cells": [
  {
   "cell_type": "code",
   "execution_count": 251,
   "id": "37088494",
   "metadata": {},
   "outputs": [],
   "source": [
    "import numpy as np \n",
    "import pandas as pd\n",
    "from pandas import Series, DataFrame"
   ]
  },
  {
   "cell_type": "code",
   "execution_count": 252,
   "id": "03067d7c",
   "metadata": {
    "scrolled": true
   },
   "outputs": [
    {
     "data": {
      "text/html": [
       "<div>\n",
       "<style scoped>\n",
       "    .dataframe tbody tr th:only-of-type {\n",
       "        vertical-align: middle;\n",
       "    }\n",
       "\n",
       "    .dataframe tbody tr th {\n",
       "        vertical-align: top;\n",
       "    }\n",
       "\n",
       "    .dataframe thead th {\n",
       "        text-align: right;\n",
       "    }\n",
       "</style>\n",
       "<table border=\"1\" class=\"dataframe\">\n",
       "  <thead>\n",
       "    <tr style=\"text-align: right;\">\n",
       "      <th></th>\n",
       "      <th>gender</th>\n",
       "      <th>math score</th>\n",
       "      <th>reading score</th>\n",
       "      <th>writing score</th>\n",
       "    </tr>\n",
       "  </thead>\n",
       "  <tbody>\n",
       "    <tr>\n",
       "      <th>0</th>\n",
       "      <td>male</td>\n",
       "      <td>67</td>\n",
       "      <td>67</td>\n",
       "      <td>63</td>\n",
       "    </tr>\n",
       "    <tr>\n",
       "      <th>1</th>\n",
       "      <td>female</td>\n",
       "      <td>40</td>\n",
       "      <td>59</td>\n",
       "      <td>55</td>\n",
       "    </tr>\n",
       "    <tr>\n",
       "      <th>2</th>\n",
       "      <td>male</td>\n",
       "      <td>59</td>\n",
       "      <td>60</td>\n",
       "      <td>50</td>\n",
       "    </tr>\n",
       "    <tr>\n",
       "      <th>3</th>\n",
       "      <td>male</td>\n",
       "      <td>77</td>\n",
       "      <td>78</td>\n",
       "      <td>68</td>\n",
       "    </tr>\n",
       "    <tr>\n",
       "      <th>4</th>\n",
       "      <td>male</td>\n",
       "      <td>78</td>\n",
       "      <td>73</td>\n",
       "      <td>68</td>\n",
       "    </tr>\n",
       "    <tr>\n",
       "      <th>...</th>\n",
       "      <td>...</td>\n",
       "      <td>...</td>\n",
       "      <td>...</td>\n",
       "      <td>...</td>\n",
       "    </tr>\n",
       "    <tr>\n",
       "      <th>115</th>\n",
       "      <td>male</td>\n",
       "      <td>76</td>\n",
       "      <td>79</td>\n",
       "      <td>76</td>\n",
       "    </tr>\n",
       "    <tr>\n",
       "      <th>116</th>\n",
       "      <td>female</td>\n",
       "      <td>49</td>\n",
       "      <td>61</td>\n",
       "      <td>63</td>\n",
       "    </tr>\n",
       "    <tr>\n",
       "      <th>117</th>\n",
       "      <td>male</td>\n",
       "      <td>59</td>\n",
       "      <td>57</td>\n",
       "      <td>55</td>\n",
       "    </tr>\n",
       "    <tr>\n",
       "      <th>118</th>\n",
       "      <td>male</td>\n",
       "      <td>59</td>\n",
       "      <td>70</td>\n",
       "      <td>58</td>\n",
       "    </tr>\n",
       "    <tr>\n",
       "      <th>119</th>\n",
       "      <td>female</td>\n",
       "      <td>76</td>\n",
       "      <td>90</td>\n",
       "      <td>87</td>\n",
       "    </tr>\n",
       "  </tbody>\n",
       "</table>\n",
       "<p>120 rows × 4 columns</p>\n",
       "</div>"
      ],
      "text/plain": [
       "     gender  math score  reading score  writing score\n",
       "0      male          67             67             63\n",
       "1    female          40             59             55\n",
       "2      male          59             60             50\n",
       "3      male          77             78             68\n",
       "4      male          78             73             68\n",
       "..      ...         ...            ...            ...\n",
       "115    male          76             79             76\n",
       "116  female          49             61             63\n",
       "117    male          59             57             55\n",
       "118    male          59             70             58\n",
       "119  female          76             90             87\n",
       "\n",
       "[120 rows x 4 columns]"
      ]
     },
     "execution_count": 252,
     "metadata": {},
     "output_type": "execute_result"
    }
   ],
   "source": [
    "# import data\n",
    "df = DataFrame()\n",
    "df = pd.read_csv(r'C:\\Users\\abide\\ENGG319\\exams3.csv')\n",
    "df"
   ]
  },
  {
   "cell_type": "code",
   "execution_count": 253,
   "id": "496d24bc",
   "metadata": {},
   "outputs": [],
   "source": [
    "# divide data into training and test set\n",
    "dfX = df.drop (columns = ['gender'])\n",
    "sy = df.gender"
   ]
  },
  {
   "cell_type": "code",
   "execution_count": 254,
   "id": "7e736c90",
   "metadata": {},
   "outputs": [
    {
     "data": {
      "text/plain": [
       "(     math score  reading score  writing score\n",
       " 102          79             78             77\n",
       " 29           33             54             51\n",
       " 58           42             61             51\n",
       " 1            40             59             55\n",
       " 15           69             61             57\n",
       " ..          ...            ...            ...\n",
       " 90           57             47             42\n",
       " 74           71             76             67\n",
       " 92           81             81             87\n",
       " 34           79             88             89\n",
       " 62           69             67             62\n",
       " \n",
       " [90 rows x 3 columns],\n",
       "      math score  reading score  writing score\n",
       " 96           95            100            100\n",
       " 101          75             78             79\n",
       " 72           49             70             63\n",
       " 105          70             78             82\n",
       " 66           71             60             56\n",
       " 71           57             52             47\n",
       " 93           94             87             93\n",
       " 18           23             44             44\n",
       " 53           36             53             49\n",
       " 44          100             88             87\n",
       " 22           71             69             73\n",
       " 117          59             57             55\n",
       " 14           81             87             85\n",
       " 79           54             43             45\n",
       " 95           58             63             67\n",
       " 4            78             73             68\n",
       " 16           58             47             42\n",
       " 39           98             81             77\n",
       " 5            63             77             76\n",
       " 119          76             90             87\n",
       " 48           68             72             73\n",
       " 70           56             68             73\n",
       " 19           39             32             31\n",
       " 55           56             60             62\n",
       " 51           52             58             60\n",
       " 88           56             52             61\n",
       " 30           87             79             77\n",
       " 67           47             46             49\n",
       " 42           87             79             82\n",
       " 41           77             67             64,\n",
       " 102      male\n",
       " 29     female\n",
       " 58     female\n",
       " 1      female\n",
       " 15       male\n",
       "         ...  \n",
       " 90       male\n",
       " 74       male\n",
       " 92     female\n",
       " 34     female\n",
       " 62       male\n",
       " Name: gender, Length: 90, dtype: object,\n",
       " 96     female\n",
       " 101      male\n",
       " 72     female\n",
       " 105    female\n",
       " 66       male\n",
       " 71       male\n",
       " 93       male\n",
       " 18     female\n",
       " 53     female\n",
       " 44       male\n",
       " 22       male\n",
       " 117      male\n",
       " 14       male\n",
       " 79       male\n",
       " 95     female\n",
       " 4        male\n",
       " 16       male\n",
       " 39       male\n",
       " 5      female\n",
       " 119    female\n",
       " 48     female\n",
       " 70     female\n",
       " 19       male\n",
       " 55     female\n",
       " 51     female\n",
       " 88     female\n",
       " 30       male\n",
       " 67     female\n",
       " 42       male\n",
       " 41       male\n",
       " Name: gender, dtype: object)"
      ]
     },
     "execution_count": 254,
     "metadata": {},
     "output_type": "execute_result"
    }
   ],
   "source": [
    "from sklearn.model_selection import train_test_split\n",
    "dfX_train, dfX_test, sy_train, sy_test = train_test_split(dfX,sy)\n",
    "dfX_train, dfX_test, sy_train, sy_test"
   ]
  },
  {
   "cell_type": "code",
   "execution_count": 255,
   "id": "17971259",
   "metadata": {},
   "outputs": [
    {
     "data": {
      "text/plain": [
       "LabelEncoder()"
      ]
     },
     "execution_count": 255,
     "metadata": {},
     "output_type": "execute_result"
    }
   ],
   "source": [
    "# LabelEncoder()\n",
    "from sklearn import preprocessing \n",
    "le = preprocessing.LabelEncoder()\n",
    "le"
   ]
  },
  {
   "cell_type": "code",
   "execution_count": 256,
   "id": "81a0f5e1",
   "metadata": {},
   "outputs": [
    {
     "data": {
      "text/plain": [
       "array(['female', 'male'], dtype=object)"
      ]
     },
     "execution_count": 256,
     "metadata": {},
     "output_type": "execute_result"
    }
   ],
   "source": [
    "le = le.fit(sy_train)\n",
    "le.classes_"
   ]
  },
  {
   "cell_type": "code",
   "execution_count": 257,
   "id": "41ee0d28",
   "metadata": {},
   "outputs": [
    {
     "data": {
      "text/plain": [
       "(102      male\n",
       " 29     female\n",
       " 58     female\n",
       " 1      female\n",
       " 15       male\n",
       "         ...  \n",
       " 90       male\n",
       " 74       male\n",
       " 92     female\n",
       " 34     female\n",
       " 62       male\n",
       " Name: gender, Length: 90, dtype: object,\n",
       " array([1, 0, 0, 0, 1, 1, 1, 0, 0, 1, 1, 1, 0, 1, 1, 1, 1, 0, 0, 0, 1, 1,\n",
       "        1, 0, 1, 0, 0, 0, 1, 0, 0, 0, 1, 0, 1, 1, 0, 1, 0, 0, 1, 0, 1, 1,\n",
       "        1, 0, 0, 0, 1, 0, 1, 1, 0, 1, 0, 0, 1, 1, 0, 0, 0, 0, 1, 1, 1, 0,\n",
       "        1, 1, 0, 1, 1, 0, 1, 1, 0, 0, 1, 1, 1, 1, 1, 1, 1, 1, 1, 1, 1, 0,\n",
       "        0, 1]))"
      ]
     },
     "execution_count": 257,
     "metadata": {},
     "output_type": "execute_result"
    }
   ],
   "source": [
    "y_train = le.transform(sy_train)\n",
    "sy_train, y_train"
   ]
  },
  {
   "cell_type": "code",
   "execution_count": 258,
   "id": "285a3ea9",
   "metadata": {},
   "outputs": [
    {
     "data": {
      "text/plain": [
       "array([[79, 78, 77],\n",
       "       [33, 54, 51],\n",
       "       [42, 61, 51],\n",
       "       [40, 59, 55],\n",
       "       [69, 61, 57],\n",
       "       [88, 87, 83],\n",
       "       [99, 83, 85],\n",
       "       [32, 41, 39],\n",
       "       [46, 59, 62],\n",
       "       [77, 78, 68],\n",
       "       [60, 46, 51],\n",
       "       [78, 74, 73],\n",
       "       [83, 76, 88],\n",
       "       [64, 63, 57],\n",
       "       [92, 78, 71],\n",
       "       [58, 52, 55],\n",
       "       [71, 68, 60],\n",
       "       [74, 89, 89],\n",
       "       [58, 70, 70],\n",
       "       [58, 63, 59],\n",
       "       [51, 45, 42],\n",
       "       [57, 57, 47],\n",
       "       [74, 71, 70],\n",
       "       [49, 74, 70],\n",
       "       [54, 61, 62],\n",
       "       [54, 75, 72],\n",
       "       [63, 82, 71],\n",
       "       [47, 58, 58],\n",
       "       [60, 54, 53],\n",
       "       [44, 55, 54],\n",
       "       [57, 77, 75],\n",
       "       [68, 74, 74],\n",
       "       [30, 33, 33],\n",
       "       [62, 59, 63],\n",
       "       [82, 74, 73],\n",
       "       [43, 34, 33],\n",
       "       [49, 61, 63],\n",
       "       [93, 88, 84],\n",
       "       [72, 91, 81],\n",
       "       [47, 63, 59],\n",
       "       [45, 52, 49],\n",
       "       [51, 59, 59],\n",
       "       [63, 50, 49],\n",
       "       [65, 68, 64],\n",
       "       [47, 42, 45],\n",
       "       [58, 68, 73],\n",
       "       [54, 62, 65],\n",
       "       [63, 76, 69],\n",
       "       [79, 64, 60],\n",
       "       [74, 81, 85],\n",
       "       [74, 74, 73],\n",
       "       [66, 67, 67],\n",
       "       [71, 77, 70],\n",
       "       [83, 93, 97],\n",
       "       [79, 88, 86],\n",
       "       [41, 52, 47],\n",
       "       [77, 76, 74],\n",
       "       [63, 56, 65],\n",
       "       [79, 76, 81],\n",
       "       [60, 64, 57],\n",
       "       [31, 38, 42],\n",
       "       [53, 71, 69],\n",
       "       [68, 51, 48],\n",
       "       [76, 79, 76],\n",
       "       [76, 66, 68],\n",
       "       [65, 65, 71],\n",
       "       [67, 67, 63],\n",
       "       [72, 76, 72],\n",
       "       [53, 60, 56],\n",
       "       [97, 93, 88],\n",
       "       [77, 87, 85],\n",
       "       [67, 80, 84],\n",
       "       [59, 70, 58],\n",
       "       [60, 63, 57],\n",
       "       [65, 76, 78],\n",
       "       [80, 87, 90],\n",
       "       [77, 82, 78],\n",
       "       [56, 38, 44],\n",
       "       [59, 60, 50],\n",
       "       [67, 65, 54],\n",
       "       [81, 73, 72],\n",
       "       [78, 73, 76],\n",
       "       [78, 76, 73],\n",
       "       [40, 41, 39],\n",
       "       [46, 38, 32],\n",
       "       [57, 47, 42],\n",
       "       [71, 76, 67],\n",
       "       [81, 81, 87],\n",
       "       [79, 88, 89],\n",
       "       [69, 67, 62]], dtype=int64)"
      ]
     },
     "execution_count": 258,
     "metadata": {},
     "output_type": "execute_result"
    }
   ],
   "source": [
    "# MinMaxScaler\n",
    "dfX_train.to_numpy()"
   ]
  },
  {
   "cell_type": "code",
   "execution_count": 259,
   "id": "e6e2ed4c",
   "metadata": {},
   "outputs": [
    {
     "data": {
      "text/plain": [
       "array([[0.71, 0.75, 0.69],\n",
       "       [0.04, 0.35, 0.29],\n",
       "       [0.17, 0.47, 0.29],\n",
       "       [0.14, 0.43, 0.35],\n",
       "       [0.57, 0.47, 0.38],\n",
       "       [0.84, 0.9 , 0.78],\n",
       "       [1.  , 0.83, 0.82],\n",
       "       [0.03, 0.13, 0.11],\n",
       "       [0.23, 0.43, 0.46],\n",
       "       [0.68, 0.75, 0.55],\n",
       "       [0.43, 0.22, 0.29],\n",
       "       [0.7 , 0.68, 0.63],\n",
       "       [0.77, 0.72, 0.86],\n",
       "       [0.49, 0.5 , 0.38],\n",
       "       [0.9 , 0.75, 0.6 ],\n",
       "       [0.41, 0.32, 0.35],\n",
       "       [0.59, 0.58, 0.43],\n",
       "       [0.64, 0.93, 0.88],\n",
       "       [0.41, 0.62, 0.58],\n",
       "       [0.41, 0.5 , 0.42],\n",
       "       [0.3 , 0.2 , 0.15],\n",
       "       [0.39, 0.4 , 0.23],\n",
       "       [0.64, 0.63, 0.58],\n",
       "       [0.28, 0.68, 0.58],\n",
       "       [0.35, 0.47, 0.46],\n",
       "       [0.35, 0.7 , 0.62],\n",
       "       [0.48, 0.82, 0.6 ],\n",
       "       [0.25, 0.42, 0.4 ],\n",
       "       [0.43, 0.35, 0.32],\n",
       "       [0.2 , 0.37, 0.34],\n",
       "       [0.39, 0.73, 0.66],\n",
       "       [0.55, 0.68, 0.65],\n",
       "       [0.  , 0.  , 0.02],\n",
       "       [0.46, 0.43, 0.48],\n",
       "       [0.75, 0.68, 0.63],\n",
       "       [0.19, 0.02, 0.02],\n",
       "       [0.28, 0.47, 0.48],\n",
       "       [0.91, 0.92, 0.8 ],\n",
       "       [0.61, 0.97, 0.75],\n",
       "       [0.25, 0.5 , 0.42],\n",
       "       [0.22, 0.32, 0.26],\n",
       "       [0.3 , 0.43, 0.42],\n",
       "       [0.48, 0.28, 0.26],\n",
       "       [0.51, 0.58, 0.49],\n",
       "       [0.25, 0.15, 0.2 ],\n",
       "       [0.41, 0.58, 0.63],\n",
       "       [0.35, 0.48, 0.51],\n",
       "       [0.48, 0.72, 0.57],\n",
       "       [0.71, 0.52, 0.43],\n",
       "       [0.64, 0.8 , 0.82],\n",
       "       [0.64, 0.68, 0.63],\n",
       "       [0.52, 0.57, 0.54],\n",
       "       [0.59, 0.73, 0.58],\n",
       "       [0.77, 1.  , 1.  ],\n",
       "       [0.71, 0.92, 0.83],\n",
       "       [0.16, 0.32, 0.23],\n",
       "       [0.68, 0.72, 0.65],\n",
       "       [0.48, 0.38, 0.51],\n",
       "       [0.71, 0.72, 0.75],\n",
       "       [0.43, 0.52, 0.38],\n",
       "       [0.01, 0.08, 0.15],\n",
       "       [0.33, 0.63, 0.57],\n",
       "       [0.55, 0.3 , 0.25],\n",
       "       [0.67, 0.77, 0.68],\n",
       "       [0.67, 0.55, 0.55],\n",
       "       [0.51, 0.53, 0.6 ],\n",
       "       [0.54, 0.57, 0.48],\n",
       "       [0.61, 0.72, 0.62],\n",
       "       [0.33, 0.45, 0.37],\n",
       "       [0.97, 1.  , 0.86],\n",
       "       [0.68, 0.9 , 0.82],\n",
       "       [0.54, 0.78, 0.8 ],\n",
       "       [0.42, 0.62, 0.4 ],\n",
       "       [0.43, 0.5 , 0.38],\n",
       "       [0.51, 0.72, 0.71],\n",
       "       [0.72, 0.9 , 0.89],\n",
       "       [0.68, 0.82, 0.71],\n",
       "       [0.38, 0.08, 0.18],\n",
       "       [0.42, 0.45, 0.28],\n",
       "       [0.54, 0.53, 0.34],\n",
       "       [0.74, 0.67, 0.62],\n",
       "       [0.7 , 0.67, 0.68],\n",
       "       [0.7 , 0.72, 0.63],\n",
       "       [0.14, 0.13, 0.11],\n",
       "       [0.23, 0.08, 0.  ],\n",
       "       [0.39, 0.23, 0.15],\n",
       "       [0.59, 0.72, 0.54],\n",
       "       [0.74, 0.8 , 0.85],\n",
       "       [0.71, 0.92, 0.88],\n",
       "       [0.57, 0.57, 0.46]])"
      ]
     },
     "execution_count": 259,
     "metadata": {},
     "output_type": "execute_result"
    }
   ],
   "source": [
    "nl = preprocessing.MinMaxScaler()\n",
    "nl = nl.fit(dfX_train.to_numpy())\n",
    "X_train = nl.transform(dfX_train.to_numpy())\n",
    "X_train"
   ]
  },
  {
   "cell_type": "code",
   "execution_count": 260,
   "id": "c5fc6a7c",
   "metadata": {},
   "outputs": [
    {
     "data": {
      "text/plain": [
       "(90, 3)"
      ]
     },
     "execution_count": 260,
     "metadata": {},
     "output_type": "execute_result"
    }
   ],
   "source": [
    "# building machine learning model\n",
    "X_train.shape"
   ]
  },
  {
   "cell_type": "code",
   "execution_count": 261,
   "id": "cb5e2910",
   "metadata": {},
   "outputs": [
    {
     "data": {
      "text/plain": [
       "KNeighborsClassifier(n_neighbors=15)"
      ]
     },
     "execution_count": 261,
     "metadata": {},
     "output_type": "execute_result"
    }
   ],
   "source": [
    "from sklearn.neighbors import KNeighborsClassifier\n",
    "knn = KNeighborsClassifier(n_neighbors=15)\n",
    "knn = knn.fit(X_train,y_train)\n",
    "knn"
   ]
  },
  {
   "cell_type": "code",
   "execution_count": 262,
   "id": "afb951be",
   "metadata": {},
   "outputs": [
    {
     "data": {
      "text/plain": [
       "0.8333333333333334"
      ]
     },
     "execution_count": 262,
     "metadata": {},
     "output_type": "execute_result"
    }
   ],
   "source": [
    "knn.score(X_train, y_train)"
   ]
  },
  {
   "cell_type": "code",
   "execution_count": 263,
   "id": "4e925978",
   "metadata": {},
   "outputs": [
    {
     "data": {
      "text/plain": [
       "(     math score  reading score  writing score\n",
       " 96           95            100            100\n",
       " 101          75             78             79\n",
       " 72           49             70             63\n",
       " 105          70             78             82\n",
       " 66           71             60             56\n",
       " 71           57             52             47\n",
       " 93           94             87             93\n",
       " 18           23             44             44\n",
       " 53           36             53             49\n",
       " 44          100             88             87\n",
       " 22           71             69             73\n",
       " 117          59             57             55\n",
       " 14           81             87             85\n",
       " 79           54             43             45\n",
       " 95           58             63             67\n",
       " 4            78             73             68\n",
       " 16           58             47             42\n",
       " 39           98             81             77\n",
       " 5            63             77             76\n",
       " 119          76             90             87\n",
       " 48           68             72             73\n",
       " 70           56             68             73\n",
       " 19           39             32             31\n",
       " 55           56             60             62\n",
       " 51           52             58             60\n",
       " 88           56             52             61\n",
       " 30           87             79             77\n",
       " 67           47             46             49\n",
       " 42           87             79             82\n",
       " 41           77             67             64,\n",
       " array([[ 0.94,  1.12,  1.05],\n",
       "        [ 0.65,  0.75,  0.72],\n",
       "        [ 0.28,  0.62,  0.48],\n",
       "        [ 0.58,  0.75,  0.77],\n",
       "        [ 0.59,  0.45,  0.37],\n",
       "        [ 0.39,  0.32,  0.23],\n",
       "        [ 0.93,  0.9 ,  0.94],\n",
       "        [-0.1 ,  0.18,  0.18],\n",
       "        [ 0.09,  0.33,  0.26],\n",
       "        [ 1.01,  0.92,  0.85],\n",
       "        [ 0.59,  0.6 ,  0.63],\n",
       "        [ 0.42,  0.4 ,  0.35],\n",
       "        [ 0.74,  0.9 ,  0.82],\n",
       "        [ 0.35,  0.17,  0.2 ],\n",
       "        [ 0.41,  0.5 ,  0.54],\n",
       "        [ 0.7 ,  0.67,  0.55],\n",
       "        [ 0.41,  0.23,  0.15],\n",
       "        [ 0.99,  0.8 ,  0.69],\n",
       "        [ 0.48,  0.73,  0.68],\n",
       "        [ 0.67,  0.95,  0.85],\n",
       "        [ 0.55,  0.65,  0.63],\n",
       "        [ 0.38,  0.58,  0.63],\n",
       "        [ 0.13, -0.02, -0.02],\n",
       "        [ 0.38,  0.45,  0.46],\n",
       "        [ 0.32,  0.42,  0.43],\n",
       "        [ 0.38,  0.32,  0.45],\n",
       "        [ 0.83,  0.77,  0.69],\n",
       "        [ 0.25,  0.22,  0.26],\n",
       "        [ 0.83,  0.77,  0.77],\n",
       "        [ 0.68,  0.57,  0.49]]))"
      ]
     },
     "execution_count": 263,
     "metadata": {},
     "output_type": "execute_result"
    }
   ],
   "source": [
    "X_test = nl.transform(dfX_test.to_numpy())\n",
    "dfX_test, X_test"
   ]
  },
  {
   "cell_type": "code",
   "execution_count": 264,
   "id": "babff384",
   "metadata": {},
   "outputs": [
    {
     "data": {
      "text/plain": [
       "array([0, 1, 0, 0, 1, 1, 1, 0, 0, 1, 1, 1, 1, 1, 0, 1, 1, 1, 0, 0, 0, 0,\n",
       "       1, 0, 0, 0, 1, 0, 1, 1])"
      ]
     },
     "execution_count": 264,
     "metadata": {},
     "output_type": "execute_result"
    }
   ],
   "source": [
    "y_test = le.transform(sy_test.to_numpy())\n",
    "y_test"
   ]
  },
  {
   "cell_type": "code",
   "execution_count": 265,
   "id": "fd402b2b",
   "metadata": {},
   "outputs": [
    {
     "data": {
      "text/plain": [
       "array([0, 1, 0, 1, 1, 1, 0, 0, 0, 1, 1, 1, 0, 1, 0, 1, 1, 1, 0, 0, 1, 0,\n",
       "       1, 0, 0, 0, 1, 1, 1, 1])"
      ]
     },
     "execution_count": 265,
     "metadata": {},
     "output_type": "execute_result"
    }
   ],
   "source": [
    "knn.predict(X_test)"
   ]
  },
  {
   "cell_type": "code",
   "execution_count": 266,
   "id": "6f253cb4",
   "metadata": {},
   "outputs": [
    {
     "data": {
      "text/plain": [
       "0.8333333333333334"
      ]
     },
     "execution_count": 266,
     "metadata": {},
     "output_type": "execute_result"
    }
   ],
   "source": [
    "knn.score(X_test, y_test)"
   ]
  },
  {
   "cell_type": "code",
   "execution_count": 267,
   "id": "865daaad",
   "metadata": {},
   "outputs": [
    {
     "data": {
      "text/plain": [
       "0.8333333333333334"
      ]
     },
     "execution_count": 267,
     "metadata": {},
     "output_type": "execute_result"
    }
   ],
   "source": [
    "knn.score(X_train, y_train)"
   ]
  },
  {
   "cell_type": "code",
   "execution_count": 268,
   "id": "90fbcb9d",
   "metadata": {},
   "outputs": [],
   "source": [
    "from sklearn import preprocessing\n",
    "import numpy as np\n",
    "stand = preprocessing.StandardScaler()\n",
    "standfitted = stand.fit(dfX_train.to_numpy())\n",
    "X_train_p = standfitted.transform(dfX_train.to_numpy())\n",
    "standfitted2 = stand.fit(dfX_test.to_numpy())\n",
    "X_test_p = standfitted.transform(dfX_test.to_numpy())"
   ]
  },
  {
   "cell_type": "code",
   "execution_count": 269,
   "id": "d5e1bcef",
   "metadata": {},
   "outputs": [
    {
     "data": {
      "text/plain": [
       "Text(0.5, 1.0, 'StandardScaler')"
      ]
     },
     "execution_count": 269,
     "metadata": {},
     "output_type": "execute_result"
    },
    {
     "data": {
      "text/plain": [
       "<Figure size 432x288 with 0 Axes>"
      ]
     },
     "metadata": {},
     "output_type": "display_data"
    },
    {
     "data": {
      "image/png": "[encoded data removed]",
      "text/plain": [
       "<Figure size 1440x216 with 2 Axes>"
      ]
     },
     "metadata": {
      "needs_background": "light"
     },
     "output_type": "display_data"
    }
   ],
   "source": [
    "n = 1\n",
    "k_values = []\n",
    "test_score_MinMax = []\n",
    "train_score_MinMax = []\n",
    "train_score_Standard = []\n",
    "test_score_Standard = []\n",
    "\n",
    "for n in range(1, 50):\n",
    "    knn = KNeighborsClassifier(n_neighbors=n)\n",
    "    knn = knn.fit(X_train,y_train)\n",
    "    nl = preprocessing.MinMaxScaler()\n",
    "    nl = nl.fit(dfX_train.to_numpy())\n",
    "    le = preprocessing.LabelEncoder()\n",
    "    le = le.fit(sy_train)\n",
    "    stand = preprocessing.StandardScaler()\n",
    "    standfitted = stand.fit(dfX_train.to_numpy())\n",
    "    X_train_p = standfitted.transform(dfX_train.to_numpy())\n",
    "    standfitted2 = stand.fit(dfX_test.to_numpy())\n",
    "    X_test_p = standfitted2.transform(dfX_test.to_numpy())\n",
    "    X_train = nl.transform(dfX_train.to_numpy())\n",
    "    y_train = le.transform(sy_train)\n",
    "    X_test = nl.transform(dfX_test.to_numpy())\n",
    "    y_test = le.transform(sy_test.to_numpy())\n",
    "    k_values.append(n)\n",
    "    test_score_MinMax.append(knn.score(X_test, y_test))\n",
    "    train_score_MinMax.append(knn.score(X_train, y_train))\n",
    "    train_score_Standard.append(knn.score(X_train_p, y_train))\n",
    "    test_score_Standard.append(knn.score(X_test_p, y_test))\n",
    "    \n",
    "import matplotlib.pyplot as plt\n",
    "plt.tight_layout()\n",
    "fig, axs = plt.subplots(figsize = (20, 3))\n",
    "axs1 = plt.subplot2grid( shape = (1,4), loc = (0,0) )\n",
    "axs2 = plt.subplot2grid( shape = (1,4), loc = (0,1) )\n",
    "\n",
    "axs1.scatter(k_values, test_score_MinMax, color = 'tab:pink', label = 'test dataset')\n",
    "axs1.scatter(k_values, train_score_MinMax, color = 'tab:purple', label = 'training dataset')\n",
    "axs1.set_xlabel('k Values')\n",
    "axs1.set_ylabel('Model Accuracy')\n",
    "axs1.legend()\n",
    "axs1.set_title('MinMaxScaler')\n",
    "\n",
    "axs2.scatter(k_values, test_score_Standard, color = 'tab:pink', label = 'test dataset')\n",
    "axs2.scatter(k_values, train_score_Standard, color = 'tab:purple', label = 'training dataset')\n",
    "axs2.set_xlabel('k Values')\n",
    "axs2.set_ylabel('Model Accuracy')\n",
    "axs2.legend()\n",
    "axs2.set_title('StandardScaler')"
   ]
  },
  {
   "cell_type": "code",
   "execution_count": 246,
   "id": "8013d15c",
   "metadata": {},
   "outputs": [
    {
     "data": {
      "text/plain": [
       "array([[ 5,  9],\n",
       "       [ 0, 16]], dtype=int64)"
      ]
     },
     "execution_count": 246,
     "metadata": {},
     "output_type": "execute_result"
    }
   ],
   "source": [
    "y_pred = knn.predict(X_test)\n",
    "cm = confusion_matrix(y_test, y_pred)\n",
    "cm"
   ]
  },
  {
   "cell_type": "code",
   "execution_count": 247,
   "id": "37c3eb7d",
   "metadata": {},
   "outputs": [
    {
     "data": {
      "image/png": "[encoded data removed]",
      "text/plain": [
       "<Figure size 432x288 with 2 Axes>"
      ]
     },
     "metadata": {
      "needs_background": "light"
     },
     "output_type": "display_data"
    }
   ],
   "source": [
    "disp = ConfusionMatrixDisplay(confusion_matrix=cm, display_labels=le.classes_)\n",
    "disp.plot(cmap=plt.cm.Purples)\n",
    "plt.show()"
   ]
  },
  {
   "cell_type": "code",
   "execution_count": null,
   "id": "59b8a5f8",
   "metadata": {},
   "outputs": [],
   "source": []
  }
 ],
 "metadata": {
  "kernelspec": {
   "display_name": "Python 3 (ipykernel)",
   "language": "python",
   "name": "python3"
  },
  "language_info": {
   "codemirror_mode": {
    "name": "ipython",
    "version": 3
   },
   "file_extension": ".py",
   "mimetype": "text/x-python",
   "name": "python",
   "nbconvert_exporter": "python",
   "pygments_lexer": "ipython3",
   "version": "3.9.12"
  }
 },
 "nbformat": 4,
 "nbformat_minor": 5
}
